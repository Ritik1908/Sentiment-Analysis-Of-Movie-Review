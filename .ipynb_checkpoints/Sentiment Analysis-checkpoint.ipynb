{
 "cells": [
  {
   "cell_type": "markdown",
   "metadata": {},
   "source": [
    "# Sentiment Analysis:\n",
    "\n",
    "Naive Bayez works great on textual data.\n",
    "\n",
    "### Work Flow:\n",
    "\n",
    "1. Text Preprocessing: Remove Html tags, common words, remove special characeters.\n",
    "2. Vectorize(BOW) the data.\n",
    "3. Pass data to algorithm and train.\n",
    "4. Deployement.\n",
    "\n",
    "\n",
    "\n",
    "## Bag Of Words:\n",
    "\n",
    "Find all unique words. For example we have following 4 words:-\n",
    "\n",
    "Each new row represent a review and it value contains occurennce of that word in a review.\n",
    "\n",
    "<table>\n",
    "\n",
    "<tr>\n",
    "<td>Great</td>\n",
    "<td>awesome</td>\n",
    "<td>poor</td>\n",
    "<td>pathetic</td>\n",
    "</tr>\n",
    "\n",
    "<tr>\n",
    "<td>3</td>\n",
    "<td>1</td>\n",
    "<td>0</td>\n",
    "<td>0</td>\n",
    "</tr>\n",
    "\n",
    "<tr>\n",
    "<td>0</td>\n",
    "<td>1</td>\n",
    "<td>2</td>\n",
    "<td>4</td>\n",
    "</tr>\n",
    "\n",
    "\n",
    "</table>\n",
    "\n",
    "\n",
    "Shape will become (50000, 4)\n",
    "\n",
    "50000 -> Number of reviews\n",
    "\n",
    "4 -> Number of unique words\n",
    "\n",
    "## Apply bayes theorem now."
   ]
  },
  {
   "cell_type": "code",
   "execution_count": 89,
   "metadata": {
    "_cell_guid": "79c7e3d0-c299-4dcb-8224-4455121ee9b0",
    "_uuid": "d629ff2d2480ee46fbb7e2d37f6b5fab8052498a"
   },
   "outputs": [
    {
     "name": "stdout",
     "output_type": "stream",
     "text": [
      "/kaggle/input/imdb-dataset-of-50k-movie-reviews/IMDB Dataset.csv\n"
     ]
    }
   ],
   "source": [
    "# This Python 3 environment comes with many helpful analytics libraries installed\n",
    "# It is defined by the kaggle/python Docker image: https://github.com/kaggle/docker-python\n",
    "# For example, here's several helpful packages to load\n",
    "\n",
    "import numpy as np # linear algebra\n",
    "import pandas as pd # data processing, CSV file I/O (e.g. pd.read_csv)\n",
    "import re\n",
    "import nltk # For StopWords\n",
    "from nltk.corpus import stopwords # For Stopwords\n",
    "from nltk.stem.porter import PorterStemmer # For stemming words\n",
    "from sklearn.feature_extraction.text import CountVectorizer # For Vectorizing words\n",
    "from sklearn.model_selection import train_test_split # For test train split\n",
    "from sklearn.naive_bayes import GaussianNB\n",
    "from sklearn.naive_bayes import MultinomialNB\n",
    "from sklearn.naive_bayes import BernoulliNB\n",
    "from sklearn.metrics import accuracy_score\n",
    "\n",
    "# Input data files are available in the read-only \"../input/\" directory\n",
    "# For example, running this (by clicking run or pressing Shift+Enter) will list all files under the input directory\n",
    "\n",
    "import os\n",
    "for dirname, _, filenames in os.walk('/kaggle/input'):\n",
    "    for filename in filenames:\n",
    "        print(os.path.join(dirname, filename))\n",
    "\n",
    "# You can write up to 5GB to the current directory (/kaggle/working/) that gets preserved as output when you create a version using \"Save & Run All\" \n",
    "# You can also write temporary files to /kaggle/temp/, but they won't be saved outside of the current session"
   ]
  },
  {
   "cell_type": "markdown",
   "metadata": {},
   "source": [
    "# Model Implementation"
   ]
  },
  {
   "cell_type": "code",
   "execution_count": 47,
   "metadata": {},
   "outputs": [
    {
     "data": {
      "text/html": [
       "<div>\n",
       "<style scoped>\n",
       "    .dataframe tbody tr th:only-of-type {\n",
       "        vertical-align: middle;\n",
       "    }\n",
       "\n",
       "    .dataframe tbody tr th {\n",
       "        vertical-align: top;\n",
       "    }\n",
       "\n",
       "    .dataframe thead th {\n",
       "        text-align: right;\n",
       "    }\n",
       "</style>\n",
       "<table border=\"1\" class=\"dataframe\">\n",
       "  <thead>\n",
       "    <tr style=\"text-align: right;\">\n",
       "      <th></th>\n",
       "      <th>review</th>\n",
       "      <th>sentiment</th>\n",
       "    </tr>\n",
       "  </thead>\n",
       "  <tbody>\n",
       "    <tr>\n",
       "      <th>0</th>\n",
       "      <td>One of the other reviewers has mentioned that ...</td>\n",
       "      <td>positive</td>\n",
       "    </tr>\n",
       "    <tr>\n",
       "      <th>1</th>\n",
       "      <td>A wonderful little production. &lt;br /&gt;&lt;br /&gt;The...</td>\n",
       "      <td>positive</td>\n",
       "    </tr>\n",
       "    <tr>\n",
       "      <th>2</th>\n",
       "      <td>I thought this was a wonderful way to spend ti...</td>\n",
       "      <td>positive</td>\n",
       "    </tr>\n",
       "    <tr>\n",
       "      <th>3</th>\n",
       "      <td>Basically there's a family where a little boy ...</td>\n",
       "      <td>negative</td>\n",
       "    </tr>\n",
       "    <tr>\n",
       "      <th>4</th>\n",
       "      <td>Petter Mattei's \"Love in the Time of Money\" is...</td>\n",
       "      <td>positive</td>\n",
       "    </tr>\n",
       "  </tbody>\n",
       "</table>\n",
       "</div>"
      ],
      "text/plain": [
       "                                              review sentiment\n",
       "0  One of the other reviewers has mentioned that ...  positive\n",
       "1  A wonderful little production. <br /><br />The...  positive\n",
       "2  I thought this was a wonderful way to spend ti...  positive\n",
       "3  Basically there's a family where a little boy ...  negative\n",
       "4  Petter Mattei's \"Love in the Time of Money\" is...  positive"
      ]
     },
     "execution_count": 47,
     "metadata": {},
     "output_type": "execute_result"
    }
   ],
   "source": [
    "data = pd.read_csv(\"/kaggle/input/imdb-dataset-of-50k-movie-reviews/IMDB Dataset.csv\")\n",
    "data.head()"
   ]
  },
  {
   "cell_type": "code",
   "execution_count": 48,
   "metadata": {},
   "outputs": [
    {
     "data": {
      "text/plain": [
       "(10000, 3)"
      ]
     },
     "execution_count": 48,
     "metadata": {},
     "output_type": "execute_result"
    }
   ],
   "source": [
    "data = data.sample(10000).reset_index()\n",
    "data.shape"
   ]
  },
  {
   "cell_type": "code",
   "execution_count": 49,
   "metadata": {},
   "outputs": [
    {
     "data": {
      "text/plain": [
       "'\"Gone With The Wind\" is one of the most overrated movies in history. It is a film loved by mothers, grandmothers, and shut-ins who go to the movies once every five years. As a zombie movie, it blows. There isn\\'t a shambling corpse in sight, and it\\'s terribly light in the gore department. \"Zombie 3\", on the other hand, is big on shambling corpses and quite generous with its blood-spilling -- therefore, it is better than \"Gone With the Wind\". It is also not overrated. Most reviewers are under no delusions that it is rubbish. It is, however, not boring rubbish. After a terrorist steals a virus, he drops it while being pursued by a helicopter, and the chemicals leak into the ground. The terrorist, who has been exposed to the nasty concoction, hides in a hotel room where he slowly morphs into a flesh-eating zombie. One of his first victim\\'s is a cleaning lady. Once she\\'s bitten, Lucio Fulci\\'s brand of hell breaks loose. As usual for a Fulci flick, the acting is atrocious, the storyline is riddled with plot holes, and the gore is plentiful. Turns out the film was directed by Fulci and Bruno Mattei, so that explains its rather schizophrenic nature. It is badly shot, too, poorly edited, and the sound design is flat. Still, it is saved by its gleeful adherence to the goriest of murders and its impatient pacing. Definitely worth picking up if you\\'re an undead completest. Or don\\'t like \"Gone With The Wind\", undoubtedly the worst zombie movie of all time.'"
      ]
     },
     "execution_count": 49,
     "metadata": {},
     "output_type": "execute_result"
    }
   ],
   "source": [
    "# One Review\n",
    "data['review'][0]"
   ]
  },
  {
   "cell_type": "markdown",
   "metadata": {},
   "source": [
    "## Text Cleaning:\n",
    "\n",
    "1. Remove HTML Tags.\n",
    "2. Remove special characters.\n",
    "3. Convert everything to lower case.\n",
    "4. Removing Stop Words.\n",
    "5. Stemming (One words used in multiple form, example play, playing, played, etc)"
   ]
  },
  {
   "cell_type": "code",
   "execution_count": 50,
   "metadata": {},
   "outputs": [
    {
     "name": "stdout",
     "output_type": "stream",
     "text": [
      "<class 'pandas.core.frame.DataFrame'>\n",
      "RangeIndex: 10000 entries, 0 to 9999\n",
      "Data columns (total 3 columns):\n",
      " #   Column     Non-Null Count  Dtype \n",
      "---  ------     --------------  ----- \n",
      " 0   index      10000 non-null  int64 \n",
      " 1   review     10000 non-null  object\n",
      " 2   sentiment  10000 non-null  object\n",
      "dtypes: int64(1), object(2)\n",
      "memory usage: 234.5+ KB\n"
     ]
    }
   ],
   "source": [
    "# No missing value in data\n",
    "data.info()"
   ]
  },
  {
   "cell_type": "code",
   "execution_count": 51,
   "metadata": {},
   "outputs": [],
   "source": [
    "# Changing Postive Negative to 0 and 1.\n",
    "data['sentiment'].replace({'positive': 1, 'negative': 0}, inplace=True)"
   ]
  },
  {
   "cell_type": "code",
   "execution_count": 52,
   "metadata": {},
   "outputs": [
    {
     "data": {
      "text/html": [
       "<div>\n",
       "<style scoped>\n",
       "    .dataframe tbody tr th:only-of-type {\n",
       "        vertical-align: middle;\n",
       "    }\n",
       "\n",
       "    .dataframe tbody tr th {\n",
       "        vertical-align: top;\n",
       "    }\n",
       "\n",
       "    .dataframe thead th {\n",
       "        text-align: right;\n",
       "    }\n",
       "</style>\n",
       "<table border=\"1\" class=\"dataframe\">\n",
       "  <thead>\n",
       "    <tr style=\"text-align: right;\">\n",
       "      <th></th>\n",
       "      <th>index</th>\n",
       "      <th>review</th>\n",
       "      <th>sentiment</th>\n",
       "    </tr>\n",
       "  </thead>\n",
       "  <tbody>\n",
       "    <tr>\n",
       "      <th>0</th>\n",
       "      <td>7908</td>\n",
       "      <td>\"Gone With The Wind\" is one of the most overra...</td>\n",
       "      <td>0</td>\n",
       "    </tr>\n",
       "    <tr>\n",
       "      <th>1</th>\n",
       "      <td>9285</td>\n",
       "      <td>Wow! Why aren't more British movies like this....</td>\n",
       "      <td>1</td>\n",
       "    </tr>\n",
       "    <tr>\n",
       "      <th>2</th>\n",
       "      <td>16964</td>\n",
       "      <td>The British noble Sir Ronald Burton (Richard G...</td>\n",
       "      <td>1</td>\n",
       "    </tr>\n",
       "    <tr>\n",
       "      <th>3</th>\n",
       "      <td>36220</td>\n",
       "      <td>I agree with msinabottle; this is a great movi...</td>\n",
       "      <td>1</td>\n",
       "    </tr>\n",
       "    <tr>\n",
       "      <th>4</th>\n",
       "      <td>4740</td>\n",
       "      <td>Before I'd seen this movie I've heard a lot of...</td>\n",
       "      <td>1</td>\n",
       "    </tr>\n",
       "  </tbody>\n",
       "</table>\n",
       "</div>"
      ],
      "text/plain": [
       "   index                                             review  sentiment\n",
       "0   7908  \"Gone With The Wind\" is one of the most overra...          0\n",
       "1   9285  Wow! Why aren't more British movies like this....          1\n",
       "2  16964  The British noble Sir Ronald Burton (Richard G...          1\n",
       "3  36220  I agree with msinabottle; this is a great movi...          1\n",
       "4   4740  Before I'd seen this movie I've heard a lot of...          1"
      ]
     },
     "execution_count": 52,
     "metadata": {},
     "output_type": "execute_result"
    }
   ],
   "source": [
    "data.head()"
   ]
  },
  {
   "cell_type": "markdown",
   "metadata": {},
   "source": [
    "### Removing HTML Tags"
   ]
  },
  {
   "cell_type": "code",
   "execution_count": 53,
   "metadata": {},
   "outputs": [
    {
     "data": {
      "text/plain": [
       "'The British noble Sir Ronald Burton (Richard Greene) decides to search his two best friends that have disappeared after visiting Count Karl von Bruno (Stephen MaNally), an evil and powerful man who lives in the Black Castle. Sir Burton travels undercover with another identity, since he fought against Count von Bruno in Afrika with his two missing friends and the count lost one eye in a battle. When he arrives in the castle, he is invited to hunt in the Black Forest around the castle with the count,.while he looks for evidences that the count has killed his friends. Later, he and the count\\'s wife, Countess Elga von Bruno (Rita Corday), fall in love for each other and with the support of Dr. Meissen (Boris Karloff), Sir Burton and the countess try to escape from the claws of Count von Bruno. \"The Black Castle\" is an excellent movie from a romantic time, with action, romance, mystery and even horror. The story is gripping, and is a great entertainment for any audience. My vote is nine.<br /><br />Title (Brazil): \"O Castelo do Pavor\" (\"The Castle of the Fear\")'"
      ]
     },
     "execution_count": 53,
     "metadata": {},
     "output_type": "execute_result"
    }
   ],
   "source": [
    "data.iloc[2].review"
   ]
  },
  {
   "cell_type": "code",
   "execution_count": 54,
   "metadata": {},
   "outputs": [
    {
     "data": {
      "text/plain": [
       "'The British noble Sir Ronald Burton (Richard Greene) decides to search his two best friends that have disappeared after visiting Count Karl von Bruno (Stephen MaNally), an evil and powerful man who lives in the Black Castle. Sir Burton travels undercover with another identity, since he fought against Count von Bruno in Afrika with his two missing friends and the count lost one eye in a battle. When he arrives in the castle, he is invited to hunt in the Black Forest around the castle with the count,.while he looks for evidences that the count has killed his friends. Later, he and the count\\'s wife, Countess Elga von Bruno (Rita Corday), fall in love for each other and with the support of Dr. Meissen (Boris Karloff), Sir Burton and the countess try to escape from the claws of Count von Bruno. \"The Black Castle\" is an excellent movie from a romantic time, with action, romance, mystery and even horror. The story is gripping, and is a great entertainment for any audience. My vote is nine.Title (Brazil): \"O Castelo do Pavor\" (\"The Castle of the Fear\")'"
      ]
     },
     "execution_count": 54,
     "metadata": {},
     "output_type": "execute_result"
    }
   ],
   "source": [
    "# Removing all HTML Tags\n",
    "clean = re.compile('<.*?>')\n",
    "re.sub(clean, '', data.iloc[2]. review)"
   ]
  },
  {
   "cell_type": "code",
   "execution_count": 55,
   "metadata": {},
   "outputs": [],
   "source": [
    "# Function to clean HTML Tags:\n",
    "def clean_html(text):\n",
    "    clean = re.compile('<.*?>')\n",
    "    return re.sub(clean, '', text)"
   ]
  },
  {
   "cell_type": "code",
   "execution_count": 56,
   "metadata": {},
   "outputs": [],
   "source": [
    "data['review'] = data['review'].apply(clean_html)"
   ]
  },
  {
   "cell_type": "code",
   "execution_count": 57,
   "metadata": {},
   "outputs": [
    {
     "data": {
      "text/plain": [
       "'The British noble Sir Ronald Burton (Richard Greene) decides to search his two best friends that have disappeared after visiting Count Karl von Bruno (Stephen MaNally), an evil and powerful man who lives in the Black Castle. Sir Burton travels undercover with another identity, since he fought against Count von Bruno in Afrika with his two missing friends and the count lost one eye in a battle. When he arrives in the castle, he is invited to hunt in the Black Forest around the castle with the count,.while he looks for evidences that the count has killed his friends. Later, he and the count\\'s wife, Countess Elga von Bruno (Rita Corday), fall in love for each other and with the support of Dr. Meissen (Boris Karloff), Sir Burton and the countess try to escape from the claws of Count von Bruno. \"The Black Castle\" is an excellent movie from a romantic time, with action, romance, mystery and even horror. The story is gripping, and is a great entertainment for any audience. My vote is nine.Title (Brazil): \"O Castelo do Pavor\" (\"The Castle of the Fear\")'"
      ]
     },
     "execution_count": 57,
     "metadata": {},
     "output_type": "execute_result"
    }
   ],
   "source": [
    "data.iloc[2].review"
   ]
  },
  {
   "cell_type": "markdown",
   "metadata": {},
   "source": [
    "### Converting everything to lower"
   ]
  },
  {
   "cell_type": "code",
   "execution_count": 58,
   "metadata": {},
   "outputs": [],
   "source": [
    "def convert_lower(text):\n",
    "    return text.lower()"
   ]
  },
  {
   "cell_type": "code",
   "execution_count": 59,
   "metadata": {},
   "outputs": [],
   "source": [
    "data['review'] = data['review'].apply(convert_lower)"
   ]
  },
  {
   "cell_type": "code",
   "execution_count": 60,
   "metadata": {},
   "outputs": [
    {
     "data": {
      "text/html": [
       "<div>\n",
       "<style scoped>\n",
       "    .dataframe tbody tr th:only-of-type {\n",
       "        vertical-align: middle;\n",
       "    }\n",
       "\n",
       "    .dataframe tbody tr th {\n",
       "        vertical-align: top;\n",
       "    }\n",
       "\n",
       "    .dataframe thead th {\n",
       "        text-align: right;\n",
       "    }\n",
       "</style>\n",
       "<table border=\"1\" class=\"dataframe\">\n",
       "  <thead>\n",
       "    <tr style=\"text-align: right;\">\n",
       "      <th></th>\n",
       "      <th>index</th>\n",
       "      <th>review</th>\n",
       "      <th>sentiment</th>\n",
       "    </tr>\n",
       "  </thead>\n",
       "  <tbody>\n",
       "    <tr>\n",
       "      <th>0</th>\n",
       "      <td>7908</td>\n",
       "      <td>\"gone with the wind\" is one of the most overra...</td>\n",
       "      <td>0</td>\n",
       "    </tr>\n",
       "    <tr>\n",
       "      <th>1</th>\n",
       "      <td>9285</td>\n",
       "      <td>wow! why aren't more british movies like this....</td>\n",
       "      <td>1</td>\n",
       "    </tr>\n",
       "    <tr>\n",
       "      <th>2</th>\n",
       "      <td>16964</td>\n",
       "      <td>the british noble sir ronald burton (richard g...</td>\n",
       "      <td>1</td>\n",
       "    </tr>\n",
       "    <tr>\n",
       "      <th>3</th>\n",
       "      <td>36220</td>\n",
       "      <td>i agree with msinabottle; this is a great movi...</td>\n",
       "      <td>1</td>\n",
       "    </tr>\n",
       "    <tr>\n",
       "      <th>4</th>\n",
       "      <td>4740</td>\n",
       "      <td>before i'd seen this movie i've heard a lot of...</td>\n",
       "      <td>1</td>\n",
       "    </tr>\n",
       "  </tbody>\n",
       "</table>\n",
       "</div>"
      ],
      "text/plain": [
       "   index                                             review  sentiment\n",
       "0   7908  \"gone with the wind\" is one of the most overra...          0\n",
       "1   9285  wow! why aren't more british movies like this....          1\n",
       "2  16964  the british noble sir ronald burton (richard g...          1\n",
       "3  36220  i agree with msinabottle; this is a great movi...          1\n",
       "4   4740  before i'd seen this movie i've heard a lot of...          1"
      ]
     },
     "execution_count": 60,
     "metadata": {},
     "output_type": "execute_result"
    }
   ],
   "source": [
    "data.head()"
   ]
  },
  {
   "cell_type": "markdown",
   "metadata": {},
   "source": [
    "### Remove Special Characters"
   ]
  },
  {
   "cell_type": "code",
   "execution_count": 61,
   "metadata": {},
   "outputs": [],
   "source": [
    "def remove_special(text):\n",
    "    x = \"\"\n",
    "    \n",
    "    for i in text:\n",
    "        if i.isalnum():\n",
    "            x = x + i\n",
    "        else:\n",
    "            x = x + \" \"\n",
    "    return x"
   ]
  },
  {
   "cell_type": "code",
   "execution_count": 62,
   "metadata": {},
   "outputs": [
    {
     "data": {
      "text/plain": [
       "'the british noble sir ronald burton (richard greene) decides to search his two best friends that have disappeared after visiting count karl von bruno (stephen manally), an evil and powerful man who lives in the black castle. sir burton travels undercover with another identity, since he fought against count von bruno in afrika with his two missing friends and the count lost one eye in a battle. when he arrives in the castle, he is invited to hunt in the black forest around the castle with the count,.while he looks for evidences that the count has killed his friends. later, he and the count\\'s wife, countess elga von bruno (rita corday), fall in love for each other and with the support of dr. meissen (boris karloff), sir burton and the countess try to escape from the claws of count von bruno. \"the black castle\" is an excellent movie from a romantic time, with action, romance, mystery and even horror. the story is gripping, and is a great entertainment for any audience. my vote is nine.title (brazil): \"o castelo do pavor\" (\"the castle of the fear\")'"
      ]
     },
     "execution_count": 62,
     "metadata": {},
     "output_type": "execute_result"
    }
   ],
   "source": [
    "data.iloc[2].review"
   ]
  },
  {
   "cell_type": "code",
   "execution_count": 63,
   "metadata": {},
   "outputs": [
    {
     "data": {
      "text/plain": [
       "'the british noble sir ronald burton  richard greene  decides to search his two best friends that have disappeared after visiting count karl von bruno  stephen manally   an evil and powerful man who lives in the black castle  sir burton travels undercover with another identity  since he fought against count von bruno in afrika with his two missing friends and the count lost one eye in a battle  when he arrives in the castle  he is invited to hunt in the black forest around the castle with the count  while he looks for evidences that the count has killed his friends  later  he and the count s wife  countess elga von bruno  rita corday   fall in love for each other and with the support of dr  meissen  boris karloff   sir burton and the countess try to escape from the claws of count von bruno   the black castle  is an excellent movie from a romantic time  with action  romance  mystery and even horror  the story is gripping  and is a great entertainment for any audience  my vote is nine title  brazil    o castelo do pavor    the castle of the fear  '"
      ]
     },
     "execution_count": 63,
     "metadata": {},
     "output_type": "execute_result"
    }
   ],
   "source": [
    "remove_special(data.iloc[2].review)"
   ]
  },
  {
   "cell_type": "code",
   "execution_count": 64,
   "metadata": {},
   "outputs": [
    {
     "data": {
      "text/html": [
       "<div>\n",
       "<style scoped>\n",
       "    .dataframe tbody tr th:only-of-type {\n",
       "        vertical-align: middle;\n",
       "    }\n",
       "\n",
       "    .dataframe tbody tr th {\n",
       "        vertical-align: top;\n",
       "    }\n",
       "\n",
       "    .dataframe thead th {\n",
       "        text-align: right;\n",
       "    }\n",
       "</style>\n",
       "<table border=\"1\" class=\"dataframe\">\n",
       "  <thead>\n",
       "    <tr style=\"text-align: right;\">\n",
       "      <th></th>\n",
       "      <th>index</th>\n",
       "      <th>review</th>\n",
       "      <th>sentiment</th>\n",
       "    </tr>\n",
       "  </thead>\n",
       "  <tbody>\n",
       "    <tr>\n",
       "      <th>0</th>\n",
       "      <td>7908</td>\n",
       "      <td>gone with the wind  is one of the most overra...</td>\n",
       "      <td>0</td>\n",
       "    </tr>\n",
       "    <tr>\n",
       "      <th>1</th>\n",
       "      <td>9285</td>\n",
       "      <td>wow  why aren t more british movies like this ...</td>\n",
       "      <td>1</td>\n",
       "    </tr>\n",
       "    <tr>\n",
       "      <th>2</th>\n",
       "      <td>16964</td>\n",
       "      <td>the british noble sir ronald burton  richard g...</td>\n",
       "      <td>1</td>\n",
       "    </tr>\n",
       "    <tr>\n",
       "      <th>3</th>\n",
       "      <td>36220</td>\n",
       "      <td>i agree with msinabottle  this is a great movi...</td>\n",
       "      <td>1</td>\n",
       "    </tr>\n",
       "    <tr>\n",
       "      <th>4</th>\n",
       "      <td>4740</td>\n",
       "      <td>before i d seen this movie i ve heard a lot of...</td>\n",
       "      <td>1</td>\n",
       "    </tr>\n",
       "  </tbody>\n",
       "</table>\n",
       "</div>"
      ],
      "text/plain": [
       "   index                                             review  sentiment\n",
       "0   7908   gone with the wind  is one of the most overra...          0\n",
       "1   9285  wow  why aren t more british movies like this ...          1\n",
       "2  16964  the british noble sir ronald burton  richard g...          1\n",
       "3  36220  i agree with msinabottle  this is a great movi...          1\n",
       "4   4740  before i d seen this movie i ve heard a lot of...          1"
      ]
     },
     "execution_count": 64,
     "metadata": {},
     "output_type": "execute_result"
    }
   ],
   "source": [
    "data['review'] = data['review'].apply(remove_special)\n",
    "data.head()"
   ]
  },
  {
   "cell_type": "markdown",
   "metadata": {},
   "source": [
    "### Remove Stop Words"
   ]
  },
  {
   "cell_type": "code",
   "execution_count": 65,
   "metadata": {},
   "outputs": [
    {
     "data": {
      "text/plain": [
       "['i',\n",
       " 'me',\n",
       " 'my',\n",
       " 'myself',\n",
       " 'we',\n",
       " 'our',\n",
       " 'ours',\n",
       " 'ourselves',\n",
       " 'you',\n",
       " \"you're\",\n",
       " \"you've\",\n",
       " \"you'll\",\n",
       " \"you'd\",\n",
       " 'your',\n",
       " 'yours',\n",
       " 'yourself',\n",
       " 'yourselves',\n",
       " 'he',\n",
       " 'him',\n",
       " 'his',\n",
       " 'himself',\n",
       " 'she',\n",
       " \"she's\",\n",
       " 'her',\n",
       " 'hers',\n",
       " 'herself',\n",
       " 'it',\n",
       " \"it's\",\n",
       " 'its',\n",
       " 'itself',\n",
       " 'they',\n",
       " 'them',\n",
       " 'their',\n",
       " 'theirs',\n",
       " 'themselves',\n",
       " 'what',\n",
       " 'which',\n",
       " 'who',\n",
       " 'whom',\n",
       " 'this',\n",
       " 'that',\n",
       " \"that'll\",\n",
       " 'these',\n",
       " 'those',\n",
       " 'am',\n",
       " 'is',\n",
       " 'are',\n",
       " 'was',\n",
       " 'were',\n",
       " 'be',\n",
       " 'been',\n",
       " 'being',\n",
       " 'have',\n",
       " 'has',\n",
       " 'had',\n",
       " 'having',\n",
       " 'do',\n",
       " 'does',\n",
       " 'did',\n",
       " 'doing',\n",
       " 'a',\n",
       " 'an',\n",
       " 'the',\n",
       " 'and',\n",
       " 'but',\n",
       " 'if',\n",
       " 'or',\n",
       " 'because',\n",
       " 'as',\n",
       " 'until',\n",
       " 'while',\n",
       " 'of',\n",
       " 'at',\n",
       " 'by',\n",
       " 'for',\n",
       " 'with',\n",
       " 'about',\n",
       " 'against',\n",
       " 'between',\n",
       " 'into',\n",
       " 'through',\n",
       " 'during',\n",
       " 'before',\n",
       " 'after',\n",
       " 'above',\n",
       " 'below',\n",
       " 'to',\n",
       " 'from',\n",
       " 'up',\n",
       " 'down',\n",
       " 'in',\n",
       " 'out',\n",
       " 'on',\n",
       " 'off',\n",
       " 'over',\n",
       " 'under',\n",
       " 'again',\n",
       " 'further',\n",
       " 'then',\n",
       " 'once',\n",
       " 'here',\n",
       " 'there',\n",
       " 'when',\n",
       " 'where',\n",
       " 'why',\n",
       " 'how',\n",
       " 'all',\n",
       " 'any',\n",
       " 'both',\n",
       " 'each',\n",
       " 'few',\n",
       " 'more',\n",
       " 'most',\n",
       " 'other',\n",
       " 'some',\n",
       " 'such',\n",
       " 'no',\n",
       " 'nor',\n",
       " 'not',\n",
       " 'only',\n",
       " 'own',\n",
       " 'same',\n",
       " 'so',\n",
       " 'than',\n",
       " 'too',\n",
       " 'very',\n",
       " 's',\n",
       " 't',\n",
       " 'can',\n",
       " 'will',\n",
       " 'just',\n",
       " 'don',\n",
       " \"don't\",\n",
       " 'should',\n",
       " \"should've\",\n",
       " 'now',\n",
       " 'd',\n",
       " 'll',\n",
       " 'm',\n",
       " 'o',\n",
       " 're',\n",
       " 've',\n",
       " 'y',\n",
       " 'ain',\n",
       " 'aren',\n",
       " \"aren't\",\n",
       " 'couldn',\n",
       " \"couldn't\",\n",
       " 'didn',\n",
       " \"didn't\",\n",
       " 'doesn',\n",
       " \"doesn't\",\n",
       " 'hadn',\n",
       " \"hadn't\",\n",
       " 'hasn',\n",
       " \"hasn't\",\n",
       " 'haven',\n",
       " \"haven't\",\n",
       " 'isn',\n",
       " \"isn't\",\n",
       " 'ma',\n",
       " 'mightn',\n",
       " \"mightn't\",\n",
       " 'mustn',\n",
       " \"mustn't\",\n",
       " 'needn',\n",
       " \"needn't\",\n",
       " 'shan',\n",
       " \"shan't\",\n",
       " 'shouldn',\n",
       " \"shouldn't\",\n",
       " 'wasn',\n",
       " \"wasn't\",\n",
       " 'weren',\n",
       " \"weren't\",\n",
       " 'won',\n",
       " \"won't\",\n",
       " 'wouldn',\n",
       " \"wouldn't\"]"
      ]
     },
     "execution_count": 65,
     "metadata": {},
     "output_type": "execute_result"
    }
   ],
   "source": [
    "stopwords.words('english')"
   ]
  },
  {
   "cell_type": "code",
   "execution_count": 66,
   "metadata": {},
   "outputs": [],
   "source": [
    "def remove_stopwords(text): \n",
    "    x = []\n",
    "    for i in text.split():\n",
    "        if i not in stopwords.words('english'):\n",
    "            x.append(i)\n",
    "    y = x[:]\n",
    "    x.clear()\n",
    "    return y"
   ]
  },
  {
   "cell_type": "code",
   "execution_count": 67,
   "metadata": {},
   "outputs": [
    {
     "data": {
      "text/plain": [
       "'the british noble sir ronald burton  richard greene  decides to search his two best friends that have disappeared after visiting count karl von bruno  stephen manally   an evil and powerful man who lives in the black castle  sir burton travels undercover with another identity  since he fought against count von bruno in afrika with his two missing friends and the count lost one eye in a battle  when he arrives in the castle  he is invited to hunt in the black forest around the castle with the count  while he looks for evidences that the count has killed his friends  later  he and the count s wife  countess elga von bruno  rita corday   fall in love for each other and with the support of dr  meissen  boris karloff   sir burton and the countess try to escape from the claws of count von bruno   the black castle  is an excellent movie from a romantic time  with action  romance  mystery and even horror  the story is gripping  and is a great entertainment for any audience  my vote is nine title  brazil    o castelo do pavor    the castle of the fear  '"
      ]
     },
     "execution_count": 67,
     "metadata": {},
     "output_type": "execute_result"
    }
   ],
   "source": [
    "data.iloc[2].review"
   ]
  },
  {
   "cell_type": "code",
   "execution_count": 68,
   "metadata": {},
   "outputs": [
    {
     "data": {
      "text/plain": [
       "['british',\n",
       " 'noble',\n",
       " 'sir',\n",
       " 'ronald',\n",
       " 'burton',\n",
       " 'richard',\n",
       " 'greene',\n",
       " 'decides',\n",
       " 'search',\n",
       " 'two',\n",
       " 'best',\n",
       " 'friends',\n",
       " 'disappeared',\n",
       " 'visiting',\n",
       " 'count',\n",
       " 'karl',\n",
       " 'von',\n",
       " 'bruno',\n",
       " 'stephen',\n",
       " 'manally',\n",
       " 'evil',\n",
       " 'powerful',\n",
       " 'man',\n",
       " 'lives',\n",
       " 'black',\n",
       " 'castle',\n",
       " 'sir',\n",
       " 'burton',\n",
       " 'travels',\n",
       " 'undercover',\n",
       " 'another',\n",
       " 'identity',\n",
       " 'since',\n",
       " 'fought',\n",
       " 'count',\n",
       " 'von',\n",
       " 'bruno',\n",
       " 'afrika',\n",
       " 'two',\n",
       " 'missing',\n",
       " 'friends',\n",
       " 'count',\n",
       " 'lost',\n",
       " 'one',\n",
       " 'eye',\n",
       " 'battle',\n",
       " 'arrives',\n",
       " 'castle',\n",
       " 'invited',\n",
       " 'hunt',\n",
       " 'black',\n",
       " 'forest',\n",
       " 'around',\n",
       " 'castle',\n",
       " 'count',\n",
       " 'looks',\n",
       " 'evidences',\n",
       " 'count',\n",
       " 'killed',\n",
       " 'friends',\n",
       " 'later',\n",
       " 'count',\n",
       " 'wife',\n",
       " 'countess',\n",
       " 'elga',\n",
       " 'von',\n",
       " 'bruno',\n",
       " 'rita',\n",
       " 'corday',\n",
       " 'fall',\n",
       " 'love',\n",
       " 'support',\n",
       " 'dr',\n",
       " 'meissen',\n",
       " 'boris',\n",
       " 'karloff',\n",
       " 'sir',\n",
       " 'burton',\n",
       " 'countess',\n",
       " 'try',\n",
       " 'escape',\n",
       " 'claws',\n",
       " 'count',\n",
       " 'von',\n",
       " 'bruno',\n",
       " 'black',\n",
       " 'castle',\n",
       " 'excellent',\n",
       " 'movie',\n",
       " 'romantic',\n",
       " 'time',\n",
       " 'action',\n",
       " 'romance',\n",
       " 'mystery',\n",
       " 'even',\n",
       " 'horror',\n",
       " 'story',\n",
       " 'gripping',\n",
       " 'great',\n",
       " 'entertainment',\n",
       " 'audience',\n",
       " 'vote',\n",
       " 'nine',\n",
       " 'title',\n",
       " 'brazil',\n",
       " 'castelo',\n",
       " 'pavor',\n",
       " 'castle',\n",
       " 'fear']"
      ]
     },
     "execution_count": 68,
     "metadata": {},
     "output_type": "execute_result"
    }
   ],
   "source": [
    "remove_stopwords(data.iloc[2].review)"
   ]
  },
  {
   "cell_type": "code",
   "execution_count": 69,
   "metadata": {},
   "outputs": [],
   "source": [
    "data['review'] = data['review'].apply(remove_stopwords)"
   ]
  },
  {
   "cell_type": "markdown",
   "metadata": {},
   "source": [
    "### Perform Stemming"
   ]
  },
  {
   "cell_type": "code",
   "execution_count": 70,
   "metadata": {},
   "outputs": [],
   "source": [
    "ps = PorterStemmer()"
   ]
  },
  {
   "cell_type": "code",
   "execution_count": 71,
   "metadata": {},
   "outputs": [],
   "source": [
    "y = []\n",
    "def stem_words(text):\n",
    "    for i in text:\n",
    "        y.append(ps.stem(i))\n",
    "    z = y[:]\n",
    "    y.clear()\n",
    "    return z"
   ]
  },
  {
   "cell_type": "code",
   "execution_count": 72,
   "metadata": {},
   "outputs": [
    {
     "data": {
      "text/html": [
       "<div>\n",
       "<style scoped>\n",
       "    .dataframe tbody tr th:only-of-type {\n",
       "        vertical-align: middle;\n",
       "    }\n",
       "\n",
       "    .dataframe tbody tr th {\n",
       "        vertical-align: top;\n",
       "    }\n",
       "\n",
       "    .dataframe thead th {\n",
       "        text-align: right;\n",
       "    }\n",
       "</style>\n",
       "<table border=\"1\" class=\"dataframe\">\n",
       "  <thead>\n",
       "    <tr style=\"text-align: right;\">\n",
       "      <th></th>\n",
       "      <th>index</th>\n",
       "      <th>review</th>\n",
       "      <th>sentiment</th>\n",
       "    </tr>\n",
       "  </thead>\n",
       "  <tbody>\n",
       "    <tr>\n",
       "      <th>0</th>\n",
       "      <td>7908</td>\n",
       "      <td>[gone, wind, one, overr, movi, histori, film, ...</td>\n",
       "      <td>0</td>\n",
       "    </tr>\n",
       "    <tr>\n",
       "      <th>1</th>\n",
       "      <td>9285</td>\n",
       "      <td>[wow, british, movi, like, great, right, passa...</td>\n",
       "      <td>1</td>\n",
       "    </tr>\n",
       "    <tr>\n",
       "      <th>2</th>\n",
       "      <td>16964</td>\n",
       "      <td>[british, nobl, sir, ronald, burton, richard, ...</td>\n",
       "      <td>1</td>\n",
       "    </tr>\n",
       "    <tr>\n",
       "      <th>3</th>\n",
       "      <td>36220</td>\n",
       "      <td>[agre, msinabottl, great, movi, dialogu, snipp...</td>\n",
       "      <td>1</td>\n",
       "    </tr>\n",
       "    <tr>\n",
       "      <th>4</th>\n",
       "      <td>4740</td>\n",
       "      <td>[seen, movi, heard, lot, prais, quit, mani, ex...</td>\n",
       "      <td>1</td>\n",
       "    </tr>\n",
       "  </tbody>\n",
       "</table>\n",
       "</div>"
      ],
      "text/plain": [
       "   index                                             review  sentiment\n",
       "0   7908  [gone, wind, one, overr, movi, histori, film, ...          0\n",
       "1   9285  [wow, british, movi, like, great, right, passa...          1\n",
       "2  16964  [british, nobl, sir, ronald, burton, richard, ...          1\n",
       "3  36220  [agre, msinabottl, great, movi, dialogu, snipp...          1\n",
       "4   4740  [seen, movi, heard, lot, prais, quit, mani, ex...          1"
      ]
     },
     "execution_count": 72,
     "metadata": {},
     "output_type": "execute_result"
    }
   ],
   "source": [
    "data['review'] = data['review'].apply(stem_words)\n",
    "data.head()"
   ]
  },
  {
   "cell_type": "code",
   "execution_count": 73,
   "metadata": {},
   "outputs": [],
   "source": [
    "# Join Back\n",
    "def join_back(list_input):\n",
    "    return \" \".join(list_input)"
   ]
  },
  {
   "cell_type": "code",
   "execution_count": 74,
   "metadata": {},
   "outputs": [
    {
     "data": {
      "text/html": [
       "<div>\n",
       "<style scoped>\n",
       "    .dataframe tbody tr th:only-of-type {\n",
       "        vertical-align: middle;\n",
       "    }\n",
       "\n",
       "    .dataframe tbody tr th {\n",
       "        vertical-align: top;\n",
       "    }\n",
       "\n",
       "    .dataframe thead th {\n",
       "        text-align: right;\n",
       "    }\n",
       "</style>\n",
       "<table border=\"1\" class=\"dataframe\">\n",
       "  <thead>\n",
       "    <tr style=\"text-align: right;\">\n",
       "      <th></th>\n",
       "      <th>index</th>\n",
       "      <th>review</th>\n",
       "      <th>sentiment</th>\n",
       "    </tr>\n",
       "  </thead>\n",
       "  <tbody>\n",
       "    <tr>\n",
       "      <th>0</th>\n",
       "      <td>7908</td>\n",
       "      <td>gone wind one overr movi histori film love mot...</td>\n",
       "      <td>0</td>\n",
       "    </tr>\n",
       "    <tr>\n",
       "      <th>1</th>\n",
       "      <td>9285</td>\n",
       "      <td>wow british movi like great right passag money...</td>\n",
       "      <td>1</td>\n",
       "    </tr>\n",
       "    <tr>\n",
       "      <th>2</th>\n",
       "      <td>16964</td>\n",
       "      <td>british nobl sir ronald burton richard green d...</td>\n",
       "      <td>1</td>\n",
       "    </tr>\n",
       "    <tr>\n",
       "      <th>3</th>\n",
       "      <td>36220</td>\n",
       "      <td>agre msinabottl great movi dialogu snippet rai...</td>\n",
       "      <td>1</td>\n",
       "    </tr>\n",
       "    <tr>\n",
       "      <th>4</th>\n",
       "      <td>4740</td>\n",
       "      <td>seen movi heard lot prais quit mani exclam hor...</td>\n",
       "      <td>1</td>\n",
       "    </tr>\n",
       "  </tbody>\n",
       "</table>\n",
       "</div>"
      ],
      "text/plain": [
       "   index                                             review  sentiment\n",
       "0   7908  gone wind one overr movi histori film love mot...          0\n",
       "1   9285  wow british movi like great right passag money...          1\n",
       "2  16964  british nobl sir ronald burton richard green d...          1\n",
       "3  36220  agre msinabottl great movi dialogu snippet rai...          1\n",
       "4   4740  seen movi heard lot prais quit mani exclam hor...          1"
      ]
     },
     "execution_count": 74,
     "metadata": {},
     "output_type": "execute_result"
    }
   ],
   "source": [
    "data['review'] = data['review'].apply(join_back)\n",
    "data.head()"
   ]
  },
  {
   "cell_type": "markdown",
   "metadata": {},
   "source": [
    "## Final Preparations:\n",
    "\n",
    "To get all words used in review"
   ]
  },
  {
   "cell_type": "code",
   "execution_count": 75,
   "metadata": {},
   "outputs": [],
   "source": [
    "cv= CountVectorizer()"
   ]
  },
  {
   "cell_type": "code",
   "execution_count": 76,
   "metadata": {},
   "outputs": [],
   "source": [
    "x = cv.fit_transform(data['review']).toarray()"
   ]
  },
  {
   "cell_type": "code",
   "execution_count": 77,
   "metadata": {},
   "outputs": [
    {
     "data": {
      "text/plain": [
       "(10000, 36394)"
      ]
     },
     "execution_count": 77,
     "metadata": {},
     "output_type": "execute_result"
    }
   ],
   "source": [
    "x.shape"
   ]
  },
  {
   "cell_type": "code",
   "execution_count": 78,
   "metadata": {},
   "outputs": [],
   "source": [
    "y = data.iloc[:,-1].values"
   ]
  },
  {
   "cell_type": "code",
   "execution_count": 79,
   "metadata": {},
   "outputs": [
    {
     "data": {
      "text/plain": [
       "(10000,)"
      ]
     },
     "execution_count": 79,
     "metadata": {},
     "output_type": "execute_result"
    }
   ],
   "source": [
    "y.shape"
   ]
  },
  {
   "cell_type": "code",
   "execution_count": 80,
   "metadata": {},
   "outputs": [],
   "source": [
    "x_train, x_test, y_train, y_test = train_test_split(x, y, test_size = 0.2)"
   ]
  },
  {
   "cell_type": "code",
   "execution_count": 81,
   "metadata": {},
   "outputs": [
    {
     "name": "stdout",
     "output_type": "stream",
     "text": [
      "(8000, 36394)\n",
      "(8000,)\n",
      "(2000, 36394)\n",
      "(2000,)\n"
     ]
    }
   ],
   "source": [
    "print(x_train.shape)\n",
    "print(y_train.shape)\n",
    "print(x_test.shape)\n",
    "print(y_test.shape)"
   ]
  },
  {
   "cell_type": "markdown",
   "metadata": {},
   "source": [
    "### Preparing model"
   ]
  },
  {
   "cell_type": "code",
   "execution_count": 82,
   "metadata": {},
   "outputs": [],
   "source": [
    "clf1 = GaussianNB()\n",
    "clf2 = MultinomialNB()\n",
    "clf3 = BernoulliNB()"
   ]
  },
  {
   "cell_type": "code",
   "execution_count": 83,
   "metadata": {},
   "outputs": [
    {
     "data": {
      "text/plain": [
       "BernoulliNB(alpha=1.0, binarize=0.0, class_prior=None, fit_prior=True)"
      ]
     },
     "execution_count": 83,
     "metadata": {},
     "output_type": "execute_result"
    }
   ],
   "source": [
    "clf1.fit(x_train, y_train)\n",
    "clf2.fit(x_train, y_train)\n",
    "clf3.fit(x_train, y_train)"
   ]
  },
  {
   "cell_type": "code",
   "execution_count": 84,
   "metadata": {},
   "outputs": [],
   "source": [
    "y_pred1 = clf1.predict(x_test)\n",
    "y_pred2 = clf2.predict(x_test)\n",
    "y_pred3 = clf3.predict(x_test)"
   ]
  },
  {
   "cell_type": "code",
   "execution_count": 86,
   "metadata": {},
   "outputs": [
    {
     "data": {
      "text/plain": [
       "(2000,)"
      ]
     },
     "execution_count": 86,
     "metadata": {},
     "output_type": "execute_result"
    }
   ],
   "source": [
    "y_pred1.shape"
   ]
  },
  {
   "cell_type": "code",
   "execution_count": 92,
   "metadata": {},
   "outputs": [
    {
     "name": "stdout",
     "output_type": "stream",
     "text": [
      "Gaussian: 0.6155\n"
     ]
    }
   ],
   "source": [
    "print(\"Gaussian:\", accuracy_score(y_test, y_pred1))\n",
    "print(\"Multinomial:\", accuracy_score(y_test, y_pred2))\n",
    "print(\"Bernaulli:\", accuracy_score(y_test, y_pred3))"
   ]
  },
  {
   "cell_type": "code",
   "execution_count": null,
   "metadata": {},
   "outputs": [],
   "source": []
  }
 ],
 "metadata": {
  "kernelspec": {
   "display_name": "Python 3",
   "language": "python",
   "name": "python3"
  },
  "language_info": {
   "codemirror_mode": {
    "name": "ipython",
    "version": 3
   },
   "file_extension": ".py",
   "mimetype": "text/x-python",
   "name": "python",
   "nbconvert_exporter": "python",
   "pygments_lexer": "ipython3",
   "version": "3.6.9"
  }
 },
 "nbformat": 4,
 "nbformat_minor": 4
}
